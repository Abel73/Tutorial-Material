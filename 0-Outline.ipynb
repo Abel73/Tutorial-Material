{
 "cells": [
  {
   "cell_type": "markdown",
   "metadata": {},
   "source": [
    "## Outline\n",
    "\n",
    "### week 1 (Sep 8)\n",
    "1. Why coding?\n",
    "2. Version Control, File Managamant and Project Managemant\n",
    "3. Software/Packages installation (Anaconda/Jupyter Notebook/Python/Chrome Browser...)\n",
    "\n",
    "\n",
    "### week 2 (Sep 15)\n",
    "4. Jupyter Notebook\n",
    "    * Markdown Basics\n",
    "    * HTML\n",
    "    * Python Basics\n",
    "\n",
    "### week 3 (Sep 22)\n",
    "5. Data collection (web scraping)\n",
    "    * HTTP\n",
    "    * Requests: post/get\n",
    "    * BeautifulSoup\n",
    "    * Cookies\n",
    "    * IP\n",
    "    * I'm NOT a robot (CAPTCHA)\n",
    "\n",
    "\n",
    "### week 4 (Sep 29) \n",
    "6. Data Cleaning\n",
    "   * pandas\n",
    "   * regular expression\n",
    "   * json/pickle\n",
    "   * Data IO\n",
    "\n",
    "### week 5 (Sep 29) \n",
    "7. Text data analysis: basic operations\n",
    "\n",
    "### week 6 (Oct 13)\n",
    "8. Text data analysis: dictionary counts\n",
    "\n",
    "### week 7 (Oct 20)\n",
    "9. Text data analysis: supervised learning\n",
    "\n",
    "### week 8 (Oct 27)\n",
    "10. Network: basic operations\n",
    "\n",
    "### week 9 (Nov 3)\n",
    "11. Networks: visualization\n",
    "\n",
    "### week 10 (Nov 10)\n",
    "12. Networks: simulations\n",
    "\n",
    "### week 11 (Nov 17)\n",
    "13. Networks: statistic\n",
    "\n",
    "### week 12 (Nov 24)\n",
    "14. Online experiments\n",
    "\n"
   ]
  },
  {
   "cell_type": "code",
   "execution_count": null,
   "metadata": {},
   "outputs": [],
   "source": []
  }
 ],
 "metadata": {
  "kernelspec": {
   "display_name": "Python 3",
   "language": "python",
   "name": "python3"
  },
  "language_info": {
   "codemirror_mode": {
    "name": "ipython",
    "version": 3
   },
   "file_extension": ".py",
   "mimetype": "text/x-python",
   "name": "python",
   "nbconvert_exporter": "python",
   "pygments_lexer": "ipython3",
   "version": "3.7.2"
  },
  "toc": {
   "nav_menu": {},
   "number_sections": true,
   "sideBar": true,
   "skip_h1_title": false,
   "toc_cell": false,
   "toc_position": {},
   "toc_section_display": "block",
   "toc_window_display": false
  },
  "varInspector": {
   "cols": {
    "lenName": 16,
    "lenType": 16,
    "lenVar": 40
   },
   "kernels_config": {
    "python": {
     "delete_cmd_postfix": "",
     "delete_cmd_prefix": "del ",
     "library": "var_list.py",
     "varRefreshCmd": "print(var_dic_list())"
    },
    "r": {
     "delete_cmd_postfix": ") ",
     "delete_cmd_prefix": "rm(",
     "library": "var_list.r",
     "varRefreshCmd": "cat(var_dic_list()) "
    }
   },
   "types_to_exclude": [
    "module",
    "function",
    "builtin_function_or_method",
    "instance",
    "_Feature"
   ],
   "window_display": false
  }
 },
 "nbformat": 4,
 "nbformat_minor": 2
}
